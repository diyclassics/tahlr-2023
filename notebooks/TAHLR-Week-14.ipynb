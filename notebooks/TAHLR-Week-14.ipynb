{
 "cells": [
  {
   "cell_type": "markdown",
   "metadata": {},
   "source": [
    "# TAHLR Week 14: Frequency Analysis\n",
    "\n",
    "Code notebook for TAHLR course at ISAW (Fall 2023) based on Sweigart 2018 (CCWP) Ch. 19: Frequency Analysis and Ch. 6: Hacking the Caesar Cipher with Brute-Force"
   ]
  },
  {
   "cell_type": "code",
   "execution_count": 22,
   "metadata": {},
   "outputs": [],
   "source": [
    "# Imports\n",
    "\n",
    "from collections import Counter\n",
    "import re\n",
    "import matplotlib.pyplot as plt\n",
    "import urllib.request\n",
    "from pprint import pprint\n",
    "\n",
    "from detectEnglish import isEnglish"
   ]
  },
  {
   "cell_type": "markdown",
   "metadata": {},
   "source": [
    "## Analyzing the Frequency of Letters in Text"
   ]
  },
  {
   "cell_type": "code",
   "execution_count": 2,
   "metadata": {},
   "outputs": [],
   "source": [
    "# Helper function, preprocesses text\n",
    "\n",
    "def preprocess(text):\n",
    "    text = text.lower()\n",
    "    text = re.sub(r'[^a-z]', '', text)\n",
    "    return text"
   ]
  },
  {
   "cell_type": "code",
   "execution_count": 4,
   "metadata": {},
   "outputs": [
    {
     "name": "stdout",
     "output_type": "stream",
     "text": [
      "['m', 'e', 'r', 'r', 'y', 'c', 'h', 'r', 'i', 's', 't', 'm', 'a', 's']\n"
     ]
    }
   ],
   "source": [
    "# Get text of Moby-Dick\n",
    "\n",
    "url = 'https://www.gutenberg.org/cache/epub/2701/pg2701.txt'\n",
    "response = urllib.request.urlopen(url)\n",
    "data = response.read().decode('utf-8')\n",
    "text = preprocess(data.lower())\n",
    "sample = [w.strip().lower() for w in text if w.strip()]\n",
    "print(sample[993:1007])"
   ]
  },
  {
   "cell_type": "code",
   "execution_count": 5,
   "metadata": {},
   "outputs": [
    {
     "name": "stdout",
     "output_type": "stream",
     "text": [
      "Counter({'e': 119345,\n",
      "         't': 89874,\n",
      "         'a': 79220,\n",
      "         'o': 70808,\n",
      "         'n': 66778,\n",
      "         'i': 66671,\n",
      "         's': 65136,\n",
      "         'h': 63769,\n",
      "         'r': 53589,\n",
      "         'l': 43349,\n",
      "         'd': 38834,\n",
      "         'u': 27205,\n",
      "         'm': 23626,\n",
      "         'c': 23318,\n",
      "         'w': 22556,\n",
      "         'g': 21287,\n",
      "         'f': 21252,\n",
      "         'p': 17873,\n",
      "         'y': 17242,\n",
      "         'b': 17203,\n",
      "         'v': 8724,\n",
      "         'k': 8228,\n",
      "         'q': 1581,\n",
      "         'j': 1176,\n",
      "         'x': 1064,\n",
      "         'z': 635})\n"
     ]
    }
   ],
   "source": [
    "# Get counter\n",
    "\n",
    "letter_frequency = Counter(sample)\n",
    "pprint(letter_frequency)"
   ]
  },
  {
   "cell_type": "code",
   "execution_count": 6,
   "metadata": {},
   "outputs": [
    {
     "data": {
      "text/plain": [
       "{'e': 0.12299,\n",
       " 't': 0.09262,\n",
       " 'a': 0.08164,\n",
       " 'o': 0.07297,\n",
       " 'n': 0.06882,\n",
       " 'i': 0.06871,\n",
       " 's': 0.06713,\n",
       " 'h': 0.06572,\n",
       " 'r': 0.05523,\n",
       " 'l': 0.04467,\n",
       " 'd': 0.04002,\n",
       " 'u': 0.02804,\n",
       " 'm': 0.02435,\n",
       " 'c': 0.02403,\n",
       " 'w': 0.02325,\n",
       " 'g': 0.02194,\n",
       " 'f': 0.0219,\n",
       " 'p': 0.01842,\n",
       " 'y': 0.01777,\n",
       " 'b': 0.01773,\n",
       " 'v': 0.00899,\n",
       " 'k': 0.00848,\n",
       " 'q': 0.00163,\n",
       " 'j': 0.00121,\n",
       " 'x': 0.0011,\n",
       " 'z': 0.00065}"
      ]
     },
     "execution_count": 6,
     "metadata": {},
     "output_type": "execute_result"
    }
   ],
   "source": [
    "# Get normed frequency\n",
    "\n",
    "total_letters = sum(letter_frequency.values())\n",
    "norm_letter_frequency = {k: round(v/total_letters, 5) for k, v in letter_frequency.items()}\n",
    "sorted_norm_letter_frequency = dict(sorted(norm_letter_frequency.items(), key=lambda item: item[1], reverse=True))\n",
    "sorted_norm_letter_frequency"
   ]
  },
  {
   "cell_type": "code",
   "execution_count": 7,
   "metadata": {},
   "outputs": [
    {
     "data": {
      "image/png": "[encoded data removed]",
      "text/plain": [
       "<Figure size 1000x800 with 1 Axes>"
      ]
     },
     "metadata": {},
     "output_type": "display_data"
    }
   ],
   "source": [
    "# Plotting\n",
    "\n",
    "plt.figure(figsize=(10, 8))  # Set the figure size to be similar to the one in the image\n",
    "\n",
    "plt.bar(sorted_norm_letter_frequency.keys(), sorted_norm_letter_frequency.values(), color=(0.9, 0.9, 0.9), \n",
    "    edgecolor='black', linewidth=1, width=1.0)\n",
    "plt.xlabel('Letters')\n",
    "\n",
    "plt.ylabel('Frequency')\n",
    "\n",
    "plt.title('Letter Frequency in Moby-Dick')\n",
    "\n",
    "plt.tight_layout()  # Adjust the layout to make sure everything fits without overlapping\n",
    "\n",
    "plt.show()"
   ]
  },
  {
   "cell_type": "code",
   "execution_count": 8,
   "metadata": {},
   "outputs": [],
   "source": [
    "# Sample text, encrypted\n",
    "\n",
    "text1 = \"\"\"Sy l nlx sr pyyacao l ylwj eiswi upar lulsxrj isr sxrjsxwjr, ia esmm\n",
    "rwctjsxsza sj wmpramh, lxo txmarr jia aqsoaxwa sr pqaceiamnsxu, ia esmm caytra\n",
    "jp famsaqa sj. Sy, px jia pjiac ilxo, ia sr pyyacao rpnajisxu eiswi lyypcor\n",
    "l calrpx ypc lwjsxu sx lwwpcolxwa jp isr sxrjsxwjr, ia esmm lwwabj sj aqax\n",
    "px jia rmsuijarj aqsoaxwa. Jia pcsusx py nhjir sr agbmlsxao sx jisr elh.\n",
    "-Facjclxo Ctrramm\"\"\""
   ]
  },
  {
   "cell_type": "code",
   "execution_count": 9,
   "metadata": {},
   "outputs": [],
   "source": [
    "# Sample text, unencrypted\n",
    "\n",
    "text2 = \"\"\"Alan Mathison Turing was a British mathematician, logician, cryptanalyst, and computer\n",
    "scientist. He was highly influential in the development of computer science, providing a\n",
    "formalisation of the concepts of \"algorithm\" and \"computation\" with the Turing machine. Turing\n",
    "is widely considered to be the father of computer science and artificial intelligence. During\n",
    "World War II, Turing worked for the Government Code and Cypher School (GCCS) at Bletchley Park,\n",
    "Britain's codebreaking centre. For a time he was head of Hut 8, the section responsible for\n",
    "German naval cryptanalysis. He devised a number of techniques for breaking German ciphers,\n",
    "including the method of the bombe, an electromechanical machine that could find settings\n",
    "for the Enigma machine. After the war he worked at the National Physical Laboratory, where\n",
    "he created one of the first designs for a stored-program computer, the ACE. In 1948 Turing\n",
    "joined Max Newman's Computing Laboratory at Manchester University, where he assisted in the\n",
    "development of the Manchester computers and became interested in mathematical biology. He wrote\n",
    "a paper on the chemical basis of morphogenesis, and predicted oscillating chemical reactions\n",
    "such as the Belousov-Zhabotinsky reaction, which were first observed in the 1960s. Turing's\n",
    "homosexuality resulted in a criminal prosecution in 1952, when homosexual acts were still\n",
    "illegal in the United Kingdom. He accepted treatment with female hormones (chemical castration)\n",
    "as an alternative to prison. Turing died in 1954, just over two weeks before his 42nd birthday,\n",
    "from cyanide poisoning. An inquest determined that his death was suicide; his mother and some\n",
    "others believed his death was accidental. On 10 September 2009, following an Internet campaign,\n",
    "British Prime Minister Gordon Brown made an official public apology on behalf of the British\n",
    "government for \"the appalling way he was treated.\" As of May 2012 a private member's bill was\n",
    "before the House of Lords which would grant Turing a statutory pardon if enacted.\"\"\""
   ]
  },
  {
   "cell_type": "code",
   "execution_count": 10,
   "metadata": {},
   "outputs": [
    {
     "data": {
      "text/plain": [
       "Counter({'a': 41,\n",
       "         's': 36,\n",
       "         'r': 26,\n",
       "         'x': 25,\n",
       "         'j': 25,\n",
       "         'i': 21,\n",
       "         'l': 18,\n",
       "         'p': 17,\n",
       "         'w': 15,\n",
       "         'm': 15,\n",
       "         'c': 14,\n",
       "         'y': 12,\n",
       "         'o': 10,\n",
       "         'e': 7,\n",
       "         'u': 7,\n",
       "         'q': 5,\n",
       "         'n': 4,\n",
       "         't': 4,\n",
       "         'h': 3,\n",
       "         'f': 2,\n",
       "         'b': 2,\n",
       "         'z': 1,\n",
       "         'g': 1})"
      ]
     },
     "execution_count": 10,
     "metadata": {},
     "output_type": "execute_result"
    }
   ],
   "source": [
    "# Show letter distribution, 1\n",
    "\n",
    "Counter(preprocess(text1.lower()))"
   ]
  },
  {
   "cell_type": "code",
   "execution_count": 11,
   "metadata": {},
   "outputs": [
    {
     "data": {
      "text/plain": [
       "Counter({'e': 196,\n",
       "         't': 140,\n",
       "         'i': 139,\n",
       "         'a': 135,\n",
       "         'n': 122,\n",
       "         'o': 113,\n",
       "         'r': 106,\n",
       "         's': 89,\n",
       "         'h': 87,\n",
       "         'c': 74,\n",
       "         'l': 62,\n",
       "         'm': 58,\n",
       "         'd': 58,\n",
       "         'g': 39,\n",
       "         'u': 37,\n",
       "         'f': 37,\n",
       "         'p': 36,\n",
       "         'w': 30,\n",
       "         'b': 30,\n",
       "         'y': 21,\n",
       "         'v': 14,\n",
       "         'k': 8,\n",
       "         'x': 3,\n",
       "         'q': 2,\n",
       "         'j': 2,\n",
       "         'z': 1})"
      ]
     },
     "execution_count": 11,
     "metadata": {},
     "output_type": "execute_result"
    }
   ],
   "source": [
    "# Show letter distribution, 2\n",
    "\n",
    "Counter(preprocess(text2.lower()))"
   ]
  },
  {
   "cell_type": "code",
   "execution_count": 12,
   "metadata": {},
   "outputs": [],
   "source": [
    "# Frequency Finder\n",
    "# https://www.nostarch.com/crackingcodes (BSD Licensed)\n",
    "\n",
    "ETAOIN = 'ETAOINSHRDLCUMWFGYPBVKJXQZ'\n",
    "LETTERS = 'ABCDEFGHIJKLMNOPQRSTUVWXYZ'"
   ]
  },
  {
   "cell_type": "code",
   "execution_count": 13,
   "metadata": {},
   "outputs": [],
   "source": [
    "# Helper function; basically, a counter object\n",
    "\n",
    "def getLetterCount(message):\n",
    "    # Returns a dictionary with keys of single letters and values of the\n",
    "    # count of how many times they appear in the message parameter:\n",
    "    letterCount = {'A': 0, 'B': 0, 'C': 0, 'D': 0, 'E': 0, 'F': 0, 'G': 0, 'H': 0, 'I': 0, 'J': 0, 'K': 0, 'L': 0, 'M': 0, 'N': 0, 'O': 0, 'P': 0, 'Q': 0, 'R': 0, 'S': 0, 'T': 0, 'U': 0, 'V': 0, 'W': 0, 'X': 0, 'Y': 0, 'Z': 0}\n",
    "\n",
    "    for letter in message.upper():\n",
    "        if letter in LETTERS:\n",
    "            letterCount[letter] += 1\n",
    "\n",
    "    return letterCount"
   ]
  },
  {
   "cell_type": "code",
   "execution_count": 17,
   "metadata": {},
   "outputs": [
    {
     "data": {
      "text/plain": [
       "{'A': 135,\n",
       " 'B': 30,\n",
       " 'C': 74,\n",
       " 'D': 58,\n",
       " 'E': 196,\n",
       " 'F': 37,\n",
       " 'G': 39,\n",
       " 'H': 87,\n",
       " 'I': 139,\n",
       " 'J': 2,\n",
       " 'K': 8,\n",
       " 'L': 62,\n",
       " 'M': 58,\n",
       " 'N': 122,\n",
       " 'O': 113,\n",
       " 'P': 36,\n",
       " 'Q': 2,\n",
       " 'R': 106,\n",
       " 'S': 89,\n",
       " 'T': 140,\n",
       " 'U': 37,\n",
       " 'V': 14,\n",
       " 'W': 30,\n",
       " 'X': 3,\n",
       " 'Y': 21,\n",
       " 'Z': 1}"
      ]
     },
     "execution_count": 17,
     "metadata": {},
     "output_type": "execute_result"
    }
   ],
   "source": [
    "# Show letter count, alphabetical order\n",
    "\n",
    "getLetterCount(text2)"
   ]
  },
  {
   "cell_type": "code",
   "execution_count": 18,
   "metadata": {},
   "outputs": [
    {
     "data": {
      "text/plain": [
       "'ETIANORSHCLDMGFUPBWYVKXJQZ'"
      ]
     },
     "execution_count": 18,
     "metadata": {},
     "output_type": "execute_result"
    }
   ],
   "source": [
    "# Get frequency order\n",
    "\n",
    "def getFrequencyOrder(message):\n",
    "    # Returns a string of the alphabet letters arranged in order of most\n",
    "    # frequently occurring in the message parameter.\n",
    "\n",
    "    # First, get a dictionary of each letter and its frequency count:\n",
    "    letterToFreq = getLetterCount(message)\n",
    "    \n",
    "    return \"\".join([k for k, v in sorted(list(letterToFreq.items()), key=lambda x: x[1], reverse=True)]) \n",
    "\n",
    "getFrequencyOrder(text2)\n"
   ]
  },
  {
   "cell_type": "code",
   "execution_count": 19,
   "metadata": {},
   "outputs": [],
   "source": [
    "# Create \"frequency match\" measurement\n",
    "\n",
    "def englishFreqMatchScore(message):\n",
    "    # Return the number of matches that the string in the message\n",
    "    # parameter has when its letter frequency is compared to English\n",
    "    # letter frequency. A \"match\" is how many of its six most frequent\n",
    "    # and six least frequent letters is among the six most frequent and\n",
    "    # six least frequent letters for English.\n",
    "    freqOrder = getFrequencyOrder(message)\n",
    "\n",
    "    matchScore = 0\n",
    "    # Find how many matches for the six most common letters there are:\n",
    "    for commonLetter in ETAOIN[:6]:\n",
    "        if commonLetter in freqOrder[:6]:\n",
    "            matchScore += 1\n",
    "    # Find how many matches for the six least common letters there are:\n",
    "    for uncommonLetter in ETAOIN[-6:]:\n",
    "        if uncommonLetter in freqOrder[-6:]:\n",
    "            matchScore += 1\n",
    "\n",
    "    return matchScore"
   ]
  },
  {
   "cell_type": "code",
   "execution_count": 87,
   "metadata": {},
   "outputs": [
    {
     "data": {
      "text/plain": [
       "5"
      ]
     },
     "execution_count": 87,
     "metadata": {},
     "output_type": "execute_result"
    }
   ],
   "source": [
    "# Show measurement example, 1\n",
    "\n",
    "englishFreqMatchScore(text1)"
   ]
  },
  {
   "cell_type": "code",
   "execution_count": 88,
   "metadata": {},
   "outputs": [
    {
     "data": {
      "text/plain": [
       "12"
      ]
     },
     "execution_count": 88,
     "metadata": {},
     "output_type": "execute_result"
    }
   ],
   "source": [
    "# Show measurement example, 1\n",
    "\n",
    "englishFreqMatchScore(text2)"
   ]
  },
  {
   "cell_type": "markdown",
   "metadata": {},
   "source": [
    "## Caesar cipher"
   ]
  },
  {
   "cell_type": "code",
   "execution_count": 20,
   "metadata": {},
   "outputs": [],
   "source": [
    "# Encrypting a Caesar cipher\n",
    "\n",
    "LETTERS = \"abcdefghijklmnopqrstuvwxyz\"\n",
    "\n",
    "def caesar_encrypt(plaintext, key):\n",
    "    ciphertext = \"\"\n",
    "    for letter in plaintext:\n",
    "        if letter.lower() in LETTERS:\n",
    "            if letter.isupper():\n",
    "                ciphertext += LETTERS[(LETTERS.index(letter.lower()) + key) % len(LETTERS)].upper()\n",
    "            else:\n",
    "                ciphertext += LETTERS[(LETTERS.index(letter.lower()) + key) % len(LETTERS)]\n",
    "        else:\n",
    "            ciphertext += letter\n",
    "    return ciphertext"
   ]
  },
  {
   "cell_type": "code",
   "execution_count": 21,
   "metadata": {},
   "outputs": [
    {
     "data": {
      "text/plain": [
       "'ifmmp xpsme'"
      ]
     },
     "execution_count": 21,
     "metadata": {},
     "output_type": "execute_result"
    }
   ],
   "source": [
    "# Example, 1\n",
    "\n",
    "caesar_encrypt(\"hello world\", 1)"
   ]
  },
  {
   "cell_type": "code",
   "execution_count": 22,
   "metadata": {},
   "outputs": [
    {
     "data": {
      "text/plain": [
       "'HAL'"
      ]
     },
     "execution_count": 22,
     "metadata": {},
     "output_type": "execute_result"
    }
   ],
   "source": [
    "# Example, 2\n",
    "\n",
    "caesar_encrypt(\"IBM\", -1)"
   ]
  },
  {
   "cell_type": "code",
   "execution_count": 20,
   "metadata": {},
   "outputs": [
    {
     "name": "stdout",
     "output_type": "stream",
     "text": [
      "Key #0: qeFIP?eGSeECNNS,\n",
      "Key #1: pdEHO!dFRdDBMMR,\n",
      "Key #2: ocDGN cEQcCALLQ,\n",
      "Key #3: nbCFM0bDPbB.KKP,\n",
      "Key #4: maBEL9aCOaA?JJO,\n",
      "Key #5: lZADK8ZBNZ.!IIN,\n",
      "Key #6: kY.CJ7YAMY? HHM,\n",
      "Key #7: jX?BI6X.LX!0GGL,\n",
      "Key #8: iW!AH5W?KW 9FFK,\n",
      "Key #9: hV .G4V!JV08EEJ,\n",
      "Key #10: gU0?F3U IU97DDI,\n",
      "Key #11: fT9!E2T0HT86CCH,\n",
      "Key #12: eS8 D1S9GS75BBG,\n",
      "Key #13: dR70CzR8FR64AAF,\n",
      "Key #14: cQ69ByQ7EQ53..E,\n",
      "Key #15: bP58AxP6DP42??D,\n",
      "Key #16: aO47.wO5CO31!!C,\n",
      "Key #17: ZN36?vN4BN2z  B,\n",
      "Key #18: YM25!uM3AM1y00A,\n",
      "Key #19: XL14 tL2.Lzx99.,\n",
      "Key #20: WKz30sK1?Kyw88?,\n",
      "Key #21: VJy29rJz!Jxv77!,\n",
      "Key #22: UIx18qIy Iwu66 ,\n",
      "Key #23: THwz7pHx0Hvt550,\n",
      "Key #24: SGvy6oGw9Gus449,\n",
      "Key #25: RFux5nFv8Ftr338,\n",
      "Key #26: QEtw4mEu7Esq227,\n",
      "Key #27: PDsv3lDt6Drp116,\n",
      "Key #28: OCru2kCs5Cqozz5,\n",
      "Key #29: NBqt1jBr4Bpnyy4,\n",
      "Key #30: MApsziAq3Aomxx3,\n",
      "Key #31: L.oryh.p2.nlww2,\n",
      "Key #32: K?nqxg?o1?mkvv1,\n",
      "Key #33: J!mpwf!nz!ljuuz,\n",
      "Key #34: I love my kitty,\n",
      "Key #35: H0knud0lx0jhssx,\n",
      "Key #36: G9jmtc9kw9igrrw,\n",
      "Key #37: F8ilsb8jv8hfqqv,\n",
      "Key #38: E7hkra7iu7geppu,\n",
      "Key #39: D6gjqZ6ht6fdoot,\n",
      "Key #40: C5fipY5gs5ecnns,\n",
      "Key #41: B4ehoX4fr4dbmmr,\n",
      "Key #42: A3dgnW3eq3callq,\n",
      "Key #43: .2cfmV2dp2bZkkp,\n",
      "Key #44: ?1belU1co1aYjjo,\n",
      "Key #45: !zadkTzbnzZXiin,\n",
      "Key #46:  yZcjSyamyYWhhm,\n",
      "Key #47: 0xYbiRxZlxXVggl,\n",
      "Key #48: 9wXahQwYkwWUffk,\n",
      "Key #49: 8vWZgPvXjvVTeej,\n",
      "Key #50: 7uVYfOuWiuUSddi,\n",
      "Key #51: 6tUXeNtVhtTRcch,\n",
      "Key #52: 5sTWdMsUgsSQbbg,\n",
      "Key #53: 4rSVcLrTfrRPaaf,\n",
      "Key #54: 3qRUbKqSeqQOZZe,\n",
      "Key #55: 2pQTaJpRdpPNYYd,\n",
      "Key #56: 1oPSZIoQcoOMXXc,\n",
      "Key #57: znORYHnPbnNLWWb,\n",
      "Key #58: ymNQXGmOamMKVVa,\n",
      "Key #59: xlMPWFlNZlLJUUZ,\n",
      "Key #60: wkLOVEkMYkKITTY,\n",
      "Key #61: vjKNUDjLXjJHSSX,\n",
      "Key #62: uiJMTCiKWiIGRRW,\n",
      "Key #63: thILSBhJVhHFQQV,\n",
      "Key #64: sgHKRAgIUgGEPPU,\n",
      "Key #65: rfGJQ.fHTfFDOOT,\n"
     ]
    }
   ],
   "source": [
    "# Caesar Cipher Hacker\n",
    "# https://www.nostarch.com/crackingcodes (BSD Licensed)\n",
    "\n",
    "message = \"guv6Jv6Jz!J6rp5r7Jzr66ntrM\"\n",
    "SYMBOLS = \"ABCDEFGHIJKLMNOPQRSTUVWXYZabcdefghijklmnopqrstuvwxyz1234567890 !?.\"\n",
    "\n",
    "messages = [\n",
    "    \"qeFIP?eGSeECNNS,\",\n",
    "    \"5coOMXXcoPSZIWoQI,\",\n",
    "    \"avnl1olyD4l'ylDohww6DhzDjhuDil,\",\n",
    "    \"z.GM?.cEQc. 70c.7KcKMKHA9AGFK,\",\n",
    "    \"?MFYp2pPJJUpZSIJWpRdpMFY,\",\n",
    "    \"ZqH8sl5HtqHTH4s3lyvH5zH5spH4t pHzqHlH3l5K\",\n",
    "    \"Zfbi,!tif!xpvme!qspcbcmz!fbu!nfA\",\n",
    "]\n",
    "\n",
    "# Loop through every possible key:\n",
    "\n",
    "for message in messages[:1]:\n",
    "    for key in list(range(len(SYMBOLS))):\n",
    "        # It is important to set translated to the blank string so that the\n",
    "        # previous iteration's value for translated is cleared.\n",
    "        translated = \"\"\n",
    "\n",
    "        # The rest of the program is almost the same as the original program:\n",
    "\n",
    "        # Loop through each symbol in `message`:\n",
    "        for symbol in message:\n",
    "            if symbol in SYMBOLS:\n",
    "                symbolIndex = SYMBOLS.find(symbol)\n",
    "                translatedIndex = symbolIndex - key\n",
    "\n",
    "                # Handle the wrap-around:\n",
    "                if translatedIndex < 0:\n",
    "                    translatedIndex = translatedIndex + len(SYMBOLS)\n",
    "\n",
    "                # Append the decrypted symbol:\n",
    "                translated = translated + SYMBOLS[translatedIndex]\n",
    "\n",
    "            else:\n",
    "                # Append the symbol without encrypting/decrypting:\n",
    "                translated = translated + symbol\n",
    "\n",
    "        # Display every possible decryption:\n",
    "        print(\"Key #%s: %s\" % (key, translated))\n"
   ]
  },
  {
   "cell_type": "code",
   "execution_count": 21,
   "metadata": {},
   "outputs": [
    {
     "name": "stdout",
     "output_type": "stream",
     "text": [
      "False\n",
      "qeFIP?eGSeECNNS,\n",
      "Key #34: I love my kitty,\n",
      "\n",
      "5coOMXXcoPSZIWoQI,\n",
      "Key #44: My kitty loves me,\n",
      "\n",
      "avnl1olyD4l'ylDohww6DhzDjhuDil,\n",
      "Key #7: Together we're happy as can be,\n",
      "\n",
      "z.GM?.cEQc. 70c.7KcKMKHA9AGFK,\n",
      "Key #32: Though my head has suspicions,\n",
      "\n",
      "?MFYp2pPJJUpZSIJWpRdpMFY,\n",
      "Key #45: That I keep under my hat,\n",
      "\n",
      "ZqH8sl5HtqHTH4s3lyvH5zH5spH4t pHzqHlH3l5K\n",
      "Key #11: Of what if I shrank to the size of a rat.\n",
      "\n",
      "Zfbi,!tif!xpvme!qspcbcmz!fbu!nfA\n",
      "Key #1: Yeah, she would probably eat me.\n",
      "\n"
     ]
    }
   ],
   "source": [
    "# Hack cipher, with language detection\n",
    "\n",
    "for message in messages:\n",
    "    print(message)\n",
    "    for key in list(range(len(SYMBOLS))):\n",
    "        # It is important to set translated to the blank string so that the\n",
    "        # previous iteration's value for translated is cleared.\n",
    "        translated = \"\"\n",
    "\n",
    "        # The rest of the program is almost the same as the original program:\n",
    "\n",
    "        # Loop through each symbol in `message`:\n",
    "        for symbol in message:\n",
    "            if symbol in SYMBOLS:\n",
    "                symbolIndex = SYMBOLS.find(symbol)\n",
    "                translatedIndex = symbolIndex - key\n",
    "\n",
    "                # Handle the wrap-around:\n",
    "                if translatedIndex < 0:\n",
    "                    translatedIndex = translatedIndex + len(SYMBOLS)\n",
    "\n",
    "                # Append the decrypted symbol:\n",
    "                translated = translated + SYMBOLS[translatedIndex]\n",
    "\n",
    "            else:\n",
    "                # Append the symbol without encrypting/decrypting:\n",
    "                translated = translated + symbol\n",
    "\n",
    "        # Display every possible decryption:\n",
    "        if isEnglish(translated, 10):\n",
    "            print(\"Key #%s: %s\" % (key, translated))\n",
    "    print()"
   ]
  }
 ],
 "metadata": {
  "kernelspec": {
   "display_name": "tahlr",
   "language": "python",
   "name": "python3"
  },
  "language_info": {
   "codemirror_mode": {
    "name": "ipython",
    "version": 3
   },
   "file_extension": ".py",
   "mimetype": "text/x-python",
   "name": "python",
   "nbconvert_exporter": "python",
   "pygments_lexer": "ipython3",
   "version": "3.10.8"
  }
 },
 "nbformat": 4,
 "nbformat_minor": 2
}
