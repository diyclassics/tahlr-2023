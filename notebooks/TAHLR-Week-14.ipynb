{
 "cells": [
  {
   "cell_type": "markdown",
   "metadata": {},
   "source": [
    "# TAHLR Week 14: Frequency Analysis\n",
    "\n",
    "Code notebook for TAHLR course at ISAW (Fall 2023) based on Sweigart 2018 (CCWP) Ch. 19: Frequency Analysis and Ch. 6: Hacking the Caesar Cipher with Brute-Force"
   ]
  },
  {
   "cell_type": "code",
   "execution_count": null,
   "metadata": {},
   "outputs": [],
   "source": [
    "# Imports\n",
    "\n",
    "from collections import Counter\n",
    "import re\n",
    "import matplotlib.pyplot as plt\n",
    "import urllib.request\n",
    "from pprint import pprint\n",
    "\n",
    "from detectEnglish import isEnglish"
   ]
  },
  {
   "cell_type": "markdown",
   "metadata": {},
   "source": [
    "## Analyzing the Frequency of Letters in Text"
   ]
  },
  {
   "cell_type": "code",
   "execution_count": null,
   "metadata": {},
   "outputs": [],
   "source": [
    "# Helper function, preprocesses text\n",
    "\n",
    "def preprocess(text):\n",
    "    text = text.lower()\n",
    "    text = re.sub(r'[^a-z]', '', text)\n",
    "    return text"
   ]
  },
  {
   "cell_type": "code",
   "execution_count": null,
   "metadata": {},
   "outputs": [],
   "source": [
    "# Get text of Moby-Dick\n",
    "\n",
    "url = 'https://www.gutenberg.org/cache/epub/2701/pg2701.txt'\n",
    "response = urllib.request.urlopen(url)\n",
    "data = response.read().decode('utf-8')\n",
    "text = preprocess(data.lower())\n",
    "sample = [w.strip().lower() for w in text if w.strip()]\n",
    "print(sample[993:1007])"
   ]
  },
  {
   "cell_type": "code",
   "execution_count": null,
   "metadata": {},
   "outputs": [],
   "source": [
    "# Get counter\n",
    "\n",
    "letter_frequency = Counter(sample)\n",
    "pprint(letter_frequency)"
   ]
  },
  {
   "cell_type": "code",
   "execution_count": null,
   "metadata": {},
   "outputs": [],
   "source": [
    "# Get normed frequency\n",
    "\n",
    "total_letters = sum(letter_frequency.values())\n",
    "norm_letter_frequency = {k: round(v/total_letters, 5) for k, v in letter_frequency.items()}\n",
    "sorted_norm_letter_frequency = dict(sorted(norm_letter_frequency.items(), key=lambda item: item[1], reverse=True))\n",
    "sorted_norm_letter_frequency"
   ]
  },
  {
   "cell_type": "code",
   "execution_count": null,
   "metadata": {},
   "outputs": [],
   "source": [
    "# Plotting\n",
    "\n",
    "plt.figure(figsize=(10, 8))  # Set the figure size to be similar to the one in the image\n",
    "\n",
    "plt.bar(sorted_norm_letter_frequency.keys(), sorted_norm_letter_frequency.values(), color=(0.9, 0.9, 0.9), \n",
    "    edgecolor='black', linewidth=1, width=1.0)\n",
    "plt.xlabel('Letters')\n",
    "\n",
    "plt.ylabel('Frequency')\n",
    "\n",
    "plt.title('Letter Frequency in Moby-Dick')\n",
    "\n",
    "plt.tight_layout()  # Adjust the layout to make sure everything fits without overlapping\n",
    "\n",
    "plt.show()"
   ]
  },
  {
   "cell_type": "code",
   "execution_count": null,
   "metadata": {},
   "outputs": [],
   "source": [
    "# Sample text, encrypted\n",
    "\n",
    "text1 = \"\"\"Sy l nlx sr pyyacao l ylwj eiswi upar lulsxrj isr sxrjsxwjr, ia esmm\n",
    "rwctjsxsza sj wmpramh, lxo txmarr jia aqsoaxwa sr pqaceiamnsxu, ia esmm caytra\n",
    "jp famsaqa sj. Sy, px jia pjiac ilxo, ia sr pyyacao rpnajisxu eiswi lyypcor\n",
    "l calrpx ypc lwjsxu sx lwwpcolxwa jp isr sxrjsxwjr, ia esmm lwwabj sj aqax\n",
    "px jia rmsuijarj aqsoaxwa. Jia pcsusx py nhjir sr agbmlsxao sx jisr elh.\n",
    "-Facjclxo Ctrramm\"\"\""
   ]
  },
  {
   "cell_type": "code",
   "execution_count": null,
   "metadata": {},
   "outputs": [],
   "source": [
    "# Sample text, unencrypted\n",
    "\n",
    "text2 = \"\"\"Alan Mathison Turing was a British mathematician, logician, cryptanalyst, and computer\n",
    "scientist. He was highly influential in the development of computer science, providing a\n",
    "formalisation of the concepts of \"algorithm\" and \"computation\" with the Turing machine. Turing\n",
    "is widely considered to be the father of computer science and artificial intelligence. During\n",
    "World War II, Turing worked for the Government Code and Cypher School (GCCS) at Bletchley Park,\n",
    "Britain's codebreaking centre. For a time he was head of Hut 8, the section responsible for\n",
    "German naval cryptanalysis. He devised a number of techniques for breaking German ciphers,\n",
    "including the method of the bombe, an electromechanical machine that could find settings\n",
    "for the Enigma machine. After the war he worked at the National Physical Laboratory, where\n",
    "he created one of the first designs for a stored-program computer, the ACE. In 1948 Turing\n",
    "joined Max Newman's Computing Laboratory at Manchester University, where he assisted in the\n",
    "development of the Manchester computers and became interested in mathematical biology. He wrote\n",
    "a paper on the chemical basis of morphogenesis, and predicted oscillating chemical reactions\n",
    "such as the Belousov-Zhabotinsky reaction, which were first observed in the 1960s. Turing's\n",
    "homosexuality resulted in a criminal prosecution in 1952, when homosexual acts were still\n",
    "illegal in the United Kingdom. He accepted treatment with female hormones (chemical castration)\n",
    "as an alternative to prison. Turing died in 1954, just over two weeks before his 42nd birthday,\n",
    "from cyanide poisoning. An inquest determined that his death was suicide; his mother and some\n",
    "others believed his death was accidental. On 10 September 2009, following an Internet campaign,\n",
    "British Prime Minister Gordon Brown made an official public apology on behalf of the British\n",
    "government for \"the appalling way he was treated.\" As of May 2012 a private member's bill was\n",
    "before the House of Lords which would grant Turing a statutory pardon if enacted.\"\"\""
   ]
  },
  {
   "cell_type": "code",
   "execution_count": null,
   "metadata": {},
   "outputs": [],
   "source": [
    "# Show letter distribution, 1\n",
    "\n",
    "Counter(preprocess(text1.lower()))"
   ]
  },
  {
   "cell_type": "code",
   "execution_count": null,
   "metadata": {},
   "outputs": [],
   "source": [
    "# Show letter distribution, 2\n",
    "\n",
    "Counter(preprocess(text2.lower()))"
   ]
  },
  {
   "cell_type": "code",
   "execution_count": null,
   "metadata": {},
   "outputs": [],
   "source": [
    "# Frequency Finder\n",
    "# https://www.nostarch.com/crackingcodes (BSD Licensed)\n",
    "\n",
    "ETAOIN = 'ETAOINSHRDLCUMWFGYPBVKJXQZ'\n",
    "LETTERS = 'ABCDEFGHIJKLMNOPQRSTUVWXYZ'"
   ]
  },
  {
   "cell_type": "code",
   "execution_count": null,
   "metadata": {},
   "outputs": [],
   "source": [
    "# Helper function; basically, a counter object\n",
    "\n",
    "def getLetterCount(message):\n",
    "    # Returns a dictionary with keys of single letters and values of the\n",
    "    # count of how many times they appear in the message parameter:\n",
    "    letterCount = {'A': 0, 'B': 0, 'C': 0, 'D': 0, 'E': 0, 'F': 0, 'G': 0, 'H': 0, 'I': 0, 'J': 0, 'K': 0, 'L': 0, 'M': 0, 'N': 0, 'O': 0, 'P': 0, 'Q': 0, 'R': 0, 'S': 0, 'T': 0, 'U': 0, 'V': 0, 'W': 0, 'X': 0, 'Y': 0, 'Z': 0}\n",
    "\n",
    "    for letter in message.upper():\n",
    "        if letter in LETTERS:\n",
    "            letterCount[letter] += 1\n",
    "\n",
    "    return letterCount"
   ]
  },
  {
   "cell_type": "code",
   "execution_count": null,
   "metadata": {},
   "outputs": [],
   "source": [
    "# Show letter count, alphabetical order\n",
    "\n",
    "getLetterCount(text2)"
   ]
  },
  {
   "cell_type": "code",
   "execution_count": null,
   "metadata": {},
   "outputs": [],
   "source": [
    "# Get frequency order\n",
    "\n",
    "def getFrequencyOrder(message):\n",
    "    # Returns a string of the alphabet letters arranged in order of most\n",
    "    # frequently occurring in the message parameter.\n",
    "\n",
    "    # First, get a dictionary of each letter and its frequency count:\n",
    "    letterToFreq = getLetterCount(message)\n",
    "    \n",
    "    return \"\".join([k for k, v in sorted(list(letterToFreq.items()), key=lambda x: x[1], reverse=True)]) \n",
    "\n",
    "getFrequencyOrder(text2)\n"
   ]
  },
  {
   "cell_type": "code",
   "execution_count": null,
   "metadata": {},
   "outputs": [],
   "source": [
    "# Create \"frequency match\" measurement\n",
    "\n",
    "def englishFreqMatchScore(message):\n",
    "    # Return the number of matches that the string in the message\n",
    "    # parameter has when its letter frequency is compared to English\n",
    "    # letter frequency. A \"match\" is how many of its six most frequent\n",
    "    # and six least frequent letters is among the six most frequent and\n",
    "    # six least frequent letters for English.\n",
    "    freqOrder = getFrequencyOrder(message)\n",
    "\n",
    "    matchScore = 0\n",
    "    # Find how many matches for the six most common letters there are:\n",
    "    for commonLetter in ETAOIN[:6]:\n",
    "        if commonLetter in freqOrder[:6]:\n",
    "            matchScore += 1\n",
    "    # Find how many matches for the six least common letters there are:\n",
    "    for uncommonLetter in ETAOIN[-6:]:\n",
    "        if uncommonLetter in freqOrder[-6:]:\n",
    "            matchScore += 1\n",
    "\n",
    "    return matchScore"
   ]
  },
  {
   "cell_type": "code",
   "execution_count": null,
   "metadata": {},
   "outputs": [],
   "source": [
    "# Show measurement example, 1\n",
    "\n",
    "englishFreqMatchScore(text1)"
   ]
  },
  {
   "cell_type": "code",
   "execution_count": null,
   "metadata": {},
   "outputs": [],
   "source": [
    "# Show measurement example, 1\n",
    "\n",
    "englishFreqMatchScore(text2)"
   ]
  },
  {
   "cell_type": "markdown",
   "metadata": {},
   "source": [
    "## Caesar cipher"
   ]
  },
  {
   "cell_type": "code",
   "execution_count": null,
   "metadata": {},
   "outputs": [],
   "source": [
    "# Encrypting a Caesar cipher\n",
    "\n",
    "LETTERS = \"abcdefghijklmnopqrstuvwxyz\"\n",
    "\n",
    "def caesar_encrypt(plaintext, key):\n",
    "    ciphertext = \"\"\n",
    "    for letter in plaintext:\n",
    "        if letter.lower() in LETTERS:\n",
    "            if letter.isupper():\n",
    "                ciphertext += LETTERS[(LETTERS.index(letter.lower()) + key) % len(LETTERS)].upper()\n",
    "            else:\n",
    "                ciphertext += LETTERS[(LETTERS.index(letter.lower()) + key) % len(LETTERS)]\n",
    "        else:\n",
    "            ciphertext += letter\n",
    "    return ciphertext"
   ]
  },
  {
   "cell_type": "code",
   "execution_count": null,
   "metadata": {},
   "outputs": [],
   "source": [
    "# Example, 1\n",
    "\n",
    "caesar_encrypt(\"hello world\", 1)"
   ]
  },
  {
   "cell_type": "code",
   "execution_count": null,
   "metadata": {},
   "outputs": [],
   "source": [
    "# Example, 2\n",
    "\n",
    "caesar_encrypt(\"IBM\", -1)"
   ]
  },
  {
   "cell_type": "code",
   "execution_count": null,
   "metadata": {},
   "outputs": [],
   "source": [
    "# Caesar Cipher Hacker\n",
    "# https://www.nostarch.com/crackingcodes (BSD Licensed)\n",
    "\n",
    "message = \"guv6Jv6Jz!J6rp5r7Jzr66ntrM\"\n",
    "SYMBOLS = \"ABCDEFGHIJKLMNOPQRSTUVWXYZabcdefghijklmnopqrstuvwxyz1234567890 !?.\"\n",
    "\n",
    "messages = [\n",
    "    \"qeFIP?eGSeECNNS,\",\n",
    "    \"5coOMXXcoPSZIWoQI,\",\n",
    "    \"avnl1olyD4l'ylDohww6DhzDjhuDil,\",\n",
    "    \"z.GM?.cEQc. 70c.7KcKMKHA9AGFK,\",\n",
    "    \"?MFYp2pPJJUpZSIJWpRdpMFY,\",\n",
    "    \"ZqH8sl5HtqHTH4s3lyvH5zH5spH4t pHzqHlH3l5K\",\n",
    "    \"Zfbi,!tif!xpvme!qspcbcmz!fbu!nfA\",\n",
    "]\n",
    "\n",
    "# Loop through every possible key:\n",
    "\n",
    "for message in messages[:1]:\n",
    "    for key in list(range(len(SYMBOLS))):\n",
    "        # It is important to set translated to the blank string so that the\n",
    "        # previous iteration's value for translated is cleared.\n",
    "        translated = \"\"\n",
    "\n",
    "        # The rest of the program is almost the same as the original program:\n",
    "\n",
    "        # Loop through each symbol in `message`:\n",
    "        for symbol in message:\n",
    "            if symbol in SYMBOLS:\n",
    "                symbolIndex = SYMBOLS.find(symbol)\n",
    "                translatedIndex = symbolIndex - key\n",
    "\n",
    "                # Handle the wrap-around:\n",
    "                if translatedIndex < 0:\n",
    "                    translatedIndex = translatedIndex + len(SYMBOLS)\n",
    "\n",
    "                # Append the decrypted symbol:\n",
    "                translated = translated + SYMBOLS[translatedIndex]\n",
    "\n",
    "            else:\n",
    "                # Append the symbol without encrypting/decrypting:\n",
    "                translated = translated + symbol\n",
    "\n",
    "        # Display every possible decryption:\n",
    "        print(\"Key #%s: %s\" % (key, translated))\n"
   ]
  },
  {
   "cell_type": "code",
   "execution_count": null,
   "metadata": {},
   "outputs": [],
   "source": [
    "# Hack cipher, with language detection\n",
    "\n",
    "for message in messages:\n",
    "    print(message)\n",
    "    for key in list(range(len(SYMBOLS))):\n",
    "        # It is important to set translated to the blank string so that the\n",
    "        # previous iteration's value for translated is cleared.\n",
    "        translated = \"\"\n",
    "\n",
    "        # The rest of the program is almost the same as the original program:\n",
    "\n",
    "        # Loop through each symbol in `message`:\n",
    "        for symbol in message:\n",
    "            if symbol in SYMBOLS:\n",
    "                symbolIndex = SYMBOLS.find(symbol)\n",
    "                translatedIndex = symbolIndex - key\n",
    "\n",
    "                # Handle the wrap-around:\n",
    "                if translatedIndex < 0:\n",
    "                    translatedIndex = translatedIndex + len(SYMBOLS)\n",
    "\n",
    "                # Append the decrypted symbol:\n",
    "                translated = translated + SYMBOLS[translatedIndex]\n",
    "\n",
    "            else:\n",
    "                # Append the symbol without encrypting/decrypting:\n",
    "                translated = translated + symbol\n",
    "\n",
    "        # Display every possible decryption:\n",
    "        if isEnglish(translated, 10):\n",
    "            print(\"Key #%s: %s\" % (key, translated))\n",
    "    print()"
   ]
  }
 ],
 "metadata": {
  "kernelspec": {
   "display_name": "tahlr",
   "language": "python",
   "name": "python3"
  },
  "language_info": {
   "codemirror_mode": {
    "name": "ipython",
    "version": 3
   },
   "file_extension": ".py",
   "mimetype": "text/x-python",
   "name": "python",
   "nbconvert_exporter": "python",
   "pygments_lexer": "ipython3",
   "version": "3.10.8"
  }
 },
 "nbformat": 4,
 "nbformat_minor": 2
}
